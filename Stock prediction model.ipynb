{
 "cells": [
  {
   "cell_type": "code",
   "execution_count": 1,
   "id": "4c9cabf9-64c8-441f-946c-1a828f157b25",
   "metadata": {},
   "outputs": [],
   "source": [
    "import numpy as np\n",
    "import pandas as pd\n",
    "import matplotlib.pyplot as plt\n",
    "import pandas_datareader as data\n"
   ]
  },
  {
   "cell_type": "code",
   "execution_count": 2,
   "id": "0fccdcff-8db8-465d-b234-21ef49c34e6b",
   "metadata": {},
   "outputs": [
    {
     "name": "stderr",
     "output_type": "stream",
     "text": [
      "[*********************100%%**********************]  1 of 1 completed\n"
     ]
    },
    {
     "data": {
      "text/html": [
       "<div>\n",
       "<style scoped>\n",
       "    .dataframe tbody tr th:only-of-type {\n",
       "        vertical-align: middle;\n",
       "    }\n",
       "\n",
       "    .dataframe tbody tr th {\n",
       "        vertical-align: top;\n",
       "    }\n",
       "\n",
       "    .dataframe thead th {\n",
       "        text-align: right;\n",
       "    }\n",
       "</style>\n",
       "<table border=\"1\" class=\"dataframe\">\n",
       "  <thead>\n",
       "    <tr style=\"text-align: right;\">\n",
       "      <th></th>\n",
       "      <th>Open</th>\n",
       "      <th>High</th>\n",
       "      <th>Low</th>\n",
       "      <th>Close</th>\n",
       "      <th>Adj Close</th>\n",
       "      <th>Volume</th>\n",
       "    </tr>\n",
       "    <tr>\n",
       "      <th>Date</th>\n",
       "      <th></th>\n",
       "      <th></th>\n",
       "      <th></th>\n",
       "      <th></th>\n",
       "      <th></th>\n",
       "      <th></th>\n",
       "    </tr>\n",
       "  </thead>\n",
       "  <tbody>\n",
       "    <tr>\n",
       "      <th>2023-01-02</th>\n",
       "      <td>894.000000</td>\n",
       "      <td>907.000000</td>\n",
       "      <td>894.000000</td>\n",
       "      <td>902.450012</td>\n",
       "      <td>887.742859</td>\n",
       "      <td>4315403</td>\n",
       "    </tr>\n",
       "    <tr>\n",
       "      <th>2023-01-03</th>\n",
       "      <td>898.500000</td>\n",
       "      <td>905.950012</td>\n",
       "      <td>896.750000</td>\n",
       "      <td>901.349976</td>\n",
       "      <td>886.660767</td>\n",
       "      <td>5846855</td>\n",
       "    </tr>\n",
       "    <tr>\n",
       "      <th>2023-01-04</th>\n",
       "      <td>899.000000</td>\n",
       "      <td>907.900024</td>\n",
       "      <td>894.799988</td>\n",
       "      <td>899.099976</td>\n",
       "      <td>884.447510</td>\n",
       "      <td>12454582</td>\n",
       "    </tr>\n",
       "    <tr>\n",
       "      <th>2023-01-05</th>\n",
       "      <td>900.900024</td>\n",
       "      <td>903.000000</td>\n",
       "      <td>872.000000</td>\n",
       "      <td>879.150024</td>\n",
       "      <td>864.822632</td>\n",
       "      <td>16547196</td>\n",
       "    </tr>\n",
       "    <tr>\n",
       "      <th>2023-01-06</th>\n",
       "      <td>878.950012</td>\n",
       "      <td>878.950012</td>\n",
       "      <td>860.500000</td>\n",
       "      <td>870.099976</td>\n",
       "      <td>855.920105</td>\n",
       "      <td>14804613</td>\n",
       "    </tr>\n",
       "  </tbody>\n",
       "</table>\n",
       "</div>"
      ],
      "text/plain": [
       "                  Open        High         Low       Close   Adj Close  \\\n",
       "Date                                                                     \n",
       "2023-01-02  894.000000  907.000000  894.000000  902.450012  887.742859   \n",
       "2023-01-03  898.500000  905.950012  896.750000  901.349976  886.660767   \n",
       "2023-01-04  899.000000  907.900024  894.799988  899.099976  884.447510   \n",
       "2023-01-05  900.900024  903.000000  872.000000  879.150024  864.822632   \n",
       "2023-01-06  878.950012  878.950012  860.500000  870.099976  855.920105   \n",
       "\n",
       "              Volume  \n",
       "Date                  \n",
       "2023-01-02   4315403  \n",
       "2023-01-03   5846855  \n",
       "2023-01-04  12454582  \n",
       "2023-01-05  16547196  \n",
       "2023-01-06  14804613  "
      ]
     },
     "execution_count": 2,
     "metadata": {},
     "output_type": "execute_result"
    }
   ],
   "source": [
    "import yfinance as yf\n",
    "\n",
    "start = '2023-1-1'\n",
    "end = '2024-05-03'\n",
    "\n",
    "# Fetch Apple's stock data from Yahoo Finance\n",
    "df = yf.download('ICICIBANK.NS', start=start, end=end)\n",
    "\n",
    "# Print the first few rows of the dataframe\n",
    "#print(aapl_data.head())\n",
    "df.head()"
   ]
  },
  {
   "cell_type": "code",
   "execution_count": 3,
   "id": "6fe4e5bf-d551-4332-8109-3136a9a8c6e1",
   "metadata": {},
   "outputs": [
    {
     "data": {
      "text/html": [
       "<div>\n",
       "<style scoped>\n",
       "    .dataframe tbody tr th:only-of-type {\n",
       "        vertical-align: middle;\n",
       "    }\n",
       "\n",
       "    .dataframe tbody tr th {\n",
       "        vertical-align: top;\n",
       "    }\n",
       "\n",
       "    .dataframe thead th {\n",
       "        text-align: right;\n",
       "    }\n",
       "</style>\n",
       "<table border=\"1\" class=\"dataframe\">\n",
       "  <thead>\n",
       "    <tr style=\"text-align: right;\">\n",
       "      <th></th>\n",
       "      <th>Open</th>\n",
       "      <th>High</th>\n",
       "      <th>Low</th>\n",
       "      <th>Close</th>\n",
       "      <th>Adj Close</th>\n",
       "      <th>Volume</th>\n",
       "    </tr>\n",
       "    <tr>\n",
       "      <th>Date</th>\n",
       "      <th></th>\n",
       "      <th></th>\n",
       "      <th></th>\n",
       "      <th></th>\n",
       "      <th></th>\n",
       "      <th></th>\n",
       "    </tr>\n",
       "  </thead>\n",
       "  <tbody>\n",
       "    <tr>\n",
       "      <th>2024-04-25</th>\n",
       "      <td>1090.000000</td>\n",
       "      <td>1125.650024</td>\n",
       "      <td>1089.949951</td>\n",
       "      <td>1113.750000</td>\n",
       "      <td>1113.750000</td>\n",
       "      <td>19905338</td>\n",
       "    </tr>\n",
       "    <tr>\n",
       "      <th>2024-04-26</th>\n",
       "      <td>1112.150024</td>\n",
       "      <td>1120.000000</td>\n",
       "      <td>1102.750000</td>\n",
       "      <td>1107.900024</td>\n",
       "      <td>1107.900024</td>\n",
       "      <td>14190059</td>\n",
       "    </tr>\n",
       "    <tr>\n",
       "      <th>2024-04-29</th>\n",
       "      <td>1108.000000</td>\n",
       "      <td>1163.449951</td>\n",
       "      <td>1107.900024</td>\n",
       "      <td>1160.150024</td>\n",
       "      <td>1160.150024</td>\n",
       "      <td>28578063</td>\n",
       "    </tr>\n",
       "    <tr>\n",
       "      <th>2024-04-30</th>\n",
       "      <td>1159.949951</td>\n",
       "      <td>1169.550049</td>\n",
       "      <td>1146.750000</td>\n",
       "      <td>1150.400024</td>\n",
       "      <td>1150.400024</td>\n",
       "      <td>29568491</td>\n",
       "    </tr>\n",
       "    <tr>\n",
       "      <th>2024-05-02</th>\n",
       "      <td>1143.000000</td>\n",
       "      <td>1155.500000</td>\n",
       "      <td>1133.250000</td>\n",
       "      <td>1139.449951</td>\n",
       "      <td>1139.449951</td>\n",
       "      <td>25118334</td>\n",
       "    </tr>\n",
       "  </tbody>\n",
       "</table>\n",
       "</div>"
      ],
      "text/plain": [
       "                   Open         High          Low        Close    Adj Close  \\\n",
       "Date                                                                          \n",
       "2024-04-25  1090.000000  1125.650024  1089.949951  1113.750000  1113.750000   \n",
       "2024-04-26  1112.150024  1120.000000  1102.750000  1107.900024  1107.900024   \n",
       "2024-04-29  1108.000000  1163.449951  1107.900024  1160.150024  1160.150024   \n",
       "2024-04-30  1159.949951  1169.550049  1146.750000  1150.400024  1150.400024   \n",
       "2024-05-02  1143.000000  1155.500000  1133.250000  1139.449951  1139.449951   \n",
       "\n",
       "              Volume  \n",
       "Date                  \n",
       "2024-04-25  19905338  \n",
       "2024-04-26  14190059  \n",
       "2024-04-29  28578063  \n",
       "2024-04-30  29568491  \n",
       "2024-05-02  25118334  "
      ]
     },
     "execution_count": 3,
     "metadata": {},
     "output_type": "execute_result"
    }
   ],
   "source": [
    " df.tail()"
   ]
  },
  {
   "cell_type": "code",
   "execution_count": 4,
   "id": "61903c9e-f7d5-443f-88ba-948518c4c080",
   "metadata": {},
   "outputs": [
    {
     "data": {
      "text/html": [
       "<div>\n",
       "<style scoped>\n",
       "    .dataframe tbody tr th:only-of-type {\n",
       "        vertical-align: middle;\n",
       "    }\n",
       "\n",
       "    .dataframe tbody tr th {\n",
       "        vertical-align: top;\n",
       "    }\n",
       "\n",
       "    .dataframe thead th {\n",
       "        text-align: right;\n",
       "    }\n",
       "</style>\n",
       "<table border=\"1\" class=\"dataframe\">\n",
       "  <thead>\n",
       "    <tr style=\"text-align: right;\">\n",
       "      <th></th>\n",
       "      <th>Date</th>\n",
       "      <th>Open</th>\n",
       "      <th>High</th>\n",
       "      <th>Low</th>\n",
       "      <th>Close</th>\n",
       "      <th>Adj Close</th>\n",
       "      <th>Volume</th>\n",
       "    </tr>\n",
       "  </thead>\n",
       "  <tbody>\n",
       "    <tr>\n",
       "      <th>0</th>\n",
       "      <td>2023-01-02</td>\n",
       "      <td>894.000000</td>\n",
       "      <td>907.000000</td>\n",
       "      <td>894.000000</td>\n",
       "      <td>902.450012</td>\n",
       "      <td>887.742859</td>\n",
       "      <td>4315403</td>\n",
       "    </tr>\n",
       "    <tr>\n",
       "      <th>1</th>\n",
       "      <td>2023-01-03</td>\n",
       "      <td>898.500000</td>\n",
       "      <td>905.950012</td>\n",
       "      <td>896.750000</td>\n",
       "      <td>901.349976</td>\n",
       "      <td>886.660767</td>\n",
       "      <td>5846855</td>\n",
       "    </tr>\n",
       "    <tr>\n",
       "      <th>2</th>\n",
       "      <td>2023-01-04</td>\n",
       "      <td>899.000000</td>\n",
       "      <td>907.900024</td>\n",
       "      <td>894.799988</td>\n",
       "      <td>899.099976</td>\n",
       "      <td>884.447510</td>\n",
       "      <td>12454582</td>\n",
       "    </tr>\n",
       "    <tr>\n",
       "      <th>3</th>\n",
       "      <td>2023-01-05</td>\n",
       "      <td>900.900024</td>\n",
       "      <td>903.000000</td>\n",
       "      <td>872.000000</td>\n",
       "      <td>879.150024</td>\n",
       "      <td>864.822632</td>\n",
       "      <td>16547196</td>\n",
       "    </tr>\n",
       "    <tr>\n",
       "      <th>4</th>\n",
       "      <td>2023-01-06</td>\n",
       "      <td>878.950012</td>\n",
       "      <td>878.950012</td>\n",
       "      <td>860.500000</td>\n",
       "      <td>870.099976</td>\n",
       "      <td>855.920105</td>\n",
       "      <td>14804613</td>\n",
       "    </tr>\n",
       "  </tbody>\n",
       "</table>\n",
       "</div>"
      ],
      "text/plain": [
       "        Date        Open        High         Low       Close   Adj Close  \\\n",
       "0 2023-01-02  894.000000  907.000000  894.000000  902.450012  887.742859   \n",
       "1 2023-01-03  898.500000  905.950012  896.750000  901.349976  886.660767   \n",
       "2 2023-01-04  899.000000  907.900024  894.799988  899.099976  884.447510   \n",
       "3 2023-01-05  900.900024  903.000000  872.000000  879.150024  864.822632   \n",
       "4 2023-01-06  878.950012  878.950012  860.500000  870.099976  855.920105   \n",
       "\n",
       "     Volume  \n",
       "0   4315403  \n",
       "1   5846855  \n",
       "2  12454582  \n",
       "3  16547196  \n",
       "4  14804613  "
      ]
     },
     "execution_count": 4,
     "metadata": {},
     "output_type": "execute_result"
    }
   ],
   "source": [
    "df = df.reset_index()\n",
    "df.head()\n",
    "\n"
   ]
  },
  {
   "cell_type": "code",
   "execution_count": 5,
   "id": "77caae3c-c746-4d99-bc73-4431f8cb1542",
   "metadata": {},
   "outputs": [
    {
     "data": {
      "text/html": [
       "<div>\n",
       "<style scoped>\n",
       "    .dataframe tbody tr th:only-of-type {\n",
       "        vertical-align: middle;\n",
       "    }\n",
       "\n",
       "    .dataframe tbody tr th {\n",
       "        vertical-align: top;\n",
       "    }\n",
       "\n",
       "    .dataframe thead th {\n",
       "        text-align: right;\n",
       "    }\n",
       "</style>\n",
       "<table border=\"1\" class=\"dataframe\">\n",
       "  <thead>\n",
       "    <tr style=\"text-align: right;\">\n",
       "      <th></th>\n",
       "      <th>Open</th>\n",
       "      <th>High</th>\n",
       "      <th>Low</th>\n",
       "      <th>Close</th>\n",
       "      <th>Volume</th>\n",
       "    </tr>\n",
       "  </thead>\n",
       "  <tbody>\n",
       "    <tr>\n",
       "      <th>0</th>\n",
       "      <td>894.000000</td>\n",
       "      <td>907.000000</td>\n",
       "      <td>894.000000</td>\n",
       "      <td>902.450012</td>\n",
       "      <td>4315403</td>\n",
       "    </tr>\n",
       "    <tr>\n",
       "      <th>1</th>\n",
       "      <td>898.500000</td>\n",
       "      <td>905.950012</td>\n",
       "      <td>896.750000</td>\n",
       "      <td>901.349976</td>\n",
       "      <td>5846855</td>\n",
       "    </tr>\n",
       "    <tr>\n",
       "      <th>2</th>\n",
       "      <td>899.000000</td>\n",
       "      <td>907.900024</td>\n",
       "      <td>894.799988</td>\n",
       "      <td>899.099976</td>\n",
       "      <td>12454582</td>\n",
       "    </tr>\n",
       "    <tr>\n",
       "      <th>3</th>\n",
       "      <td>900.900024</td>\n",
       "      <td>903.000000</td>\n",
       "      <td>872.000000</td>\n",
       "      <td>879.150024</td>\n",
       "      <td>16547196</td>\n",
       "    </tr>\n",
       "    <tr>\n",
       "      <th>4</th>\n",
       "      <td>878.950012</td>\n",
       "      <td>878.950012</td>\n",
       "      <td>860.500000</td>\n",
       "      <td>870.099976</td>\n",
       "      <td>14804613</td>\n",
       "    </tr>\n",
       "  </tbody>\n",
       "</table>\n",
       "</div>"
      ],
      "text/plain": [
       "         Open        High         Low       Close    Volume\n",
       "0  894.000000  907.000000  894.000000  902.450012   4315403\n",
       "1  898.500000  905.950012  896.750000  901.349976   5846855\n",
       "2  899.000000  907.900024  894.799988  899.099976  12454582\n",
       "3  900.900024  903.000000  872.000000  879.150024  16547196\n",
       "4  878.950012  878.950012  860.500000  870.099976  14804613"
      ]
     },
     "execution_count": 5,
     "metadata": {},
     "output_type": "execute_result"
    }
   ],
   "source": [
    "# Drop unnecessary columns\n",
    "df = df.drop(['Date', 'Adj Close'], axis = 1)\n",
    "df.head()"
   ]
  },
  {
   "cell_type": "code",
   "execution_count": 6,
   "id": "b8432c86-d0d2-411f-985c-6939d5df15df",
   "metadata": {},
   "outputs": [
    {
     "data": {
      "image/png": "[encoded data removed]",
      "text/plain": [
       "<Figure size 640x480 with 1 Axes>"
      ]
     },
     "metadata": {},
     "output_type": "display_data"
    }
   ],
   "source": [
    "# Plot the 'Close' prices\n",
    "plt.plot(df['Close'])\n",
    "plt.xlabel('Time')\n",
    "plt.ylabel('Close Price')\n",
    "plt.title('STOCK Close Price')\n",
    "plt.show()"
   ]
  },
  {
   "cell_type": "code",
   "execution_count": 7,
   "id": "9ed4517b-f7d6-4bf5-ad98-d6dc7db1be48",
   "metadata": {},
   "outputs": [
    {
     "name": "stdout",
     "output_type": "stream",
     "text": [
      "Index(['Open', 'High', 'Low', 'Close', 'Volume'], dtype='object')\n"
     ]
    }
   ],
   "source": [
    "print(df.columns)\n"
   ]
  },
  {
   "cell_type": "code",
   "execution_count": 8,
   "id": "eceb6c3f-1258-4d9b-859f-667ebec01e72",
   "metadata": {},
   "outputs": [],
   "source": [
    "ma100 = df['Close'].rolling(100).mean()\n"
   ]
  },
  {
   "cell_type": "code",
   "execution_count": 9,
   "id": "a40ef4a4-0d28-40e0-bad6-8f609e983374",
   "metadata": {},
   "outputs": [
    {
     "data": {
      "text/plain": [
       "0              NaN\n",
       "1              NaN\n",
       "2              NaN\n",
       "3              NaN\n",
       "4              NaN\n",
       "          ...     \n",
       "321    1036.092499\n",
       "322    1037.916500\n",
       "323    1040.122000\n",
       "324    1042.276500\n",
       "325    1044.204000\n",
       "Name: Close, Length: 326, dtype: float64"
      ]
     },
     "execution_count": 9,
     "metadata": {},
     "output_type": "execute_result"
    }
   ],
   "source": [
    "ma100\n"
   ]
  },
  {
   "cell_type": "code",
   "execution_count": 10,
   "id": "f0c6e426-4876-413e-835f-c6ca072f046a",
   "metadata": {},
   "outputs": [
    {
     "data": {
      "image/png": "[encoded data removed]",
      "text/plain": [
       "<Figure size 1200x600 with 1 Axes>"
      ]
     },
     "metadata": {},
     "output_type": "display_data"
    }
   ],
   "source": [
    "plt.figure(figsize=(12, 6))\n",
    "plt.plot(df['Close'])\n",
    "plt.plot(ma100, 'r')\n",
    "plt.xlabel('Date')\n",
    "plt.ylabel('Price')\n",
    "plt.title('Stock Close Price with 100-Day Moving Average')\n",
    "plt.legend(['Close', '100-Day MA'])\n",
    "plt.show()\n"
   ]
  },
  {
   "cell_type": "code",
   "execution_count": 11,
   "id": "706029af-87e0-4a17-bbee-fde930a80e46",
   "metadata": {},
   "outputs": [
    {
     "data": {
      "text/plain": [
       "0             NaN\n",
       "1             NaN\n",
       "2             NaN\n",
       "3             NaN\n",
       "4             NaN\n",
       "          ...    \n",
       "321    995.837500\n",
       "322    996.664250\n",
       "323    997.741501\n",
       "324    998.703501\n",
       "325    999.603750\n",
       "Name: Close, Length: 326, dtype: float64"
      ]
     },
     "execution_count": 11,
     "metadata": {},
     "output_type": "execute_result"
    }
   ],
   "source": [
    "ma200 = df['Close'].rolling(200).mean()\n",
    "ma200\n"
   ]
  },
  {
   "cell_type": "code",
   "execution_count": 12,
   "id": "67849e0d-0ec2-402f-bf57-1608302aa120",
   "metadata": {},
   "outputs": [
    {
     "data": {
      "image/png": "[encoded data removed]",
      "text/plain": [
       "<Figure size 1200x600 with 1 Axes>"
      ]
     },
     "metadata": {},
     "output_type": "display_data"
    }
   ],
   "source": [
    "plt.figure(figsize=(12, 6))\n",
    "plt.plot(df['Close'])\n",
    "plt.plot(ma100, 'r')\n",
    "plt.plot(ma200, 'g')\n",
    "plt.xlabel('Date')\n",
    "plt.ylabel('Price')\n",
    "plt.title('Stock Close Price with 100-Day and 200-Day Moving Averages')\n",
    "plt.legend(['Close', '100-Day MA', '200-Day MA'])\n",
    "plt.show()\n"
   ]
  },
  {
   "cell_type": "code",
   "execution_count": 13,
   "id": "01126625-2189-4f14-a2ea-778723c4d595",
   "metadata": {},
   "outputs": [
    {
     "name": "stdout",
     "output_type": "stream",
     "text": [
      "(228, 1)\n",
      "(98, 1)\n"
     ]
    }
   ],
   "source": [
    "#Splitting Data into Training and Testing\n",
    "\n",
    "data_training = pd.DataFrame(df['Close'][0:int(len(df)*0.70)])\n",
    "data_testing = pd.DataFrame(df['Close'][int(len(df)*0.70): int(len(df))])\n",
    "\n",
    "print(data_training.shape)\n",
    "print(data_testing.shape)\n"
   ]
  },
  {
   "cell_type": "code",
   "execution_count": 14,
   "id": "f7fb6f16-d4c2-4d53-918d-4309a62e78bf",
   "metadata": {},
   "outputs": [
    {
     "data": {
      "text/html": [
       "<div>\n",
       "<style scoped>\n",
       "    .dataframe tbody tr th:only-of-type {\n",
       "        vertical-align: middle;\n",
       "    }\n",
       "\n",
       "    .dataframe tbody tr th {\n",
       "        vertical-align: top;\n",
       "    }\n",
       "\n",
       "    .dataframe thead th {\n",
       "        text-align: right;\n",
       "    }\n",
       "</style>\n",
       "<table border=\"1\" class=\"dataframe\">\n",
       "  <thead>\n",
       "    <tr style=\"text-align: right;\">\n",
       "      <th></th>\n",
       "      <th>Close</th>\n",
       "    </tr>\n",
       "  </thead>\n",
       "  <tbody>\n",
       "    <tr>\n",
       "      <th>0</th>\n",
       "      <td>902.450012</td>\n",
       "    </tr>\n",
       "    <tr>\n",
       "      <th>1</th>\n",
       "      <td>901.349976</td>\n",
       "    </tr>\n",
       "    <tr>\n",
       "      <th>2</th>\n",
       "      <td>899.099976</td>\n",
       "    </tr>\n",
       "    <tr>\n",
       "      <th>3</th>\n",
       "      <td>879.150024</td>\n",
       "    </tr>\n",
       "    <tr>\n",
       "      <th>4</th>\n",
       "      <td>870.099976</td>\n",
       "    </tr>\n",
       "  </tbody>\n",
       "</table>\n",
       "</div>"
      ],
      "text/plain": [
       "        Close\n",
       "0  902.450012\n",
       "1  901.349976\n",
       "2  899.099976\n",
       "3  879.150024\n",
       "4  870.099976"
      ]
     },
     "execution_count": 14,
     "metadata": {},
     "output_type": "execute_result"
    }
   ],
   "source": [
    "data_training.head()"
   ]
  },
  {
   "cell_type": "code",
   "execution_count": 15,
   "id": "ab07a4ca-423f-425b-92ea-877778cfe36a",
   "metadata": {},
   "outputs": [],
   "source": [
    "from sklearn.preprocessing import MinMaxScaler\n",
    "\n",
    "# Define the scaler\n",
    "scaler = MinMaxScaler(feature_range=(0,1))\n",
    "\n",
    "# Fit the scaler to the training data and transform it\n",
    "scaled_training_data = scaler.fit_transform(data_training)\n",
    "\n",
    "# Transform the testing data\n",
    "scaled_testing_data = scaler.transform(data_testing)\n"
   ]
  },
  {
   "cell_type": "code",
   "execution_count": 16,
   "id": "1fbc4910-3feb-4f63-aaed-aa76657885ae",
   "metadata": {},
   "outputs": [
    {
     "data": {
      "text/plain": [
       "(228, 1)"
      ]
     },
     "execution_count": 16,
     "metadata": {},
     "output_type": "execute_result"
    }
   ],
   "source": [
    "scaled_training_data.shape"
   ]
  },
  {
   "cell_type": "code",
   "execution_count": 17,
   "id": "e3f2f97b-97b6-4314-bf2c-b183c3b63297",
   "metadata": {},
   "outputs": [],
   "source": [
    "x_train = []\n",
    "y_train = []\n",
    "\n",
    "for i in range(100,scaled_training_data.shape[0]):\n",
    "    x_train.append(scaled_training_data[i-100: i])\n",
    "    y_train.append(scaled_training_data[i, 0])\n",
    "\n",
    "x_train, y_train = np.array(x_train), np.array(y_train)\n"
   ]
  },
  {
   "cell_type": "code",
   "execution_count": 18,
   "id": "940658f7-2260-46e6-8f79-e6eca2b98568",
   "metadata": {},
   "outputs": [
    {
     "data": {
      "text/plain": [
       "(128, 100, 1)"
      ]
     },
     "execution_count": 18,
     "metadata": {},
     "output_type": "execute_result"
    }
   ],
   "source": [
    "x_train.shape"
   ]
  },
  {
   "cell_type": "code",
   "execution_count": 19,
   "id": "419050f7-2295-47be-bfe6-696cd17e1312",
   "metadata": {},
   "outputs": [],
   "source": [
    "from keras.models import Sequential\n",
    "from keras.layers import LSTM, Dropout, Dense\n"
   ]
  },
  {
   "cell_type": "code",
   "execution_count": 20,
   "id": "5e26bc84-19fb-49c8-87d9-3cf3a084cd33",
   "metadata": {},
   "outputs": [
    {
     "name": "stderr",
     "output_type": "stream",
     "text": [
      "C:\\Python311\\Lib\\site-packages\\keras\\src\\layers\\rnn\\rnn.py:204: UserWarning: Do not pass an `input_shape`/`input_dim` argument to a layer. When using Sequential models, prefer using an `Input(shape)` object as the first layer in the model instead.\n",
      "  super().__init__(**kwargs)\n"
     ]
    }
   ],
   "source": [
    "model = Sequential()\n",
    "model.add(LSTM(units = 50, activation = 'relu', return_sequences = True,\n",
    "               input_shape = (x_train.shape[1], 1)))\n",
    "model.add(Dropout(0.2))\n",
    "\n",
    "model.add(LSTM(units = 60,activation = 'relu', return_sequences = True))\n",
    "model.add(Dropout(0.3))\n",
    "\n",
    "model.add(LSTM(units = 80,activation = 'relu', return_sequences = True))\n",
    "model.add(Dropout(0.4))\n",
    "\n",
    "model.add(LSTM(units = 120,activation = 'relu',))\n",
    "model.add(Dropout(0.5))\n",
    "\n",
    "model.add(Dense(units = 1))\n"
   ]
  },
  {
   "cell_type": "code",
   "execution_count": 21,
   "id": "7274f03f-fe78-4dc4-8fa8-35cc4a231c0c",
   "metadata": {},
   "outputs": [
    {
     "data": {
      "text/html": [
       "<pre style=\"white-space:pre;overflow-x:auto;line-height:normal;font-family:Menlo,'DejaVu Sans Mono',consolas,'Courier New',monospace\"><span style=\"font-weight: bold\">Model: \"sequential\"</span>\n",
       "</pre>\n"
      ],
      "text/plain": [
       "\u001b[1mModel: \"sequential\"\u001b[0m\n"
      ]
     },
     "metadata": {},
     "output_type": "display_data"
    },
    {
     "data": {
      "text/html": [
       "<pre style=\"white-space:pre;overflow-x:auto;line-height:normal;font-family:Menlo,'DejaVu Sans Mono',consolas,'Courier New',monospace\">┏━━━━━━━━━━━━━━━━━━━━━━━━━━━━━━━━━━━━━━┳━━━━━━━━━━━━━━━━━━━━━━━━━━━━━┳━━━━━━━━━━━━━━━━━┓\n",
       "┃<span style=\"font-weight: bold\"> Layer (type)                         </span>┃<span style=\"font-weight: bold\"> Output Shape                </span>┃<span style=\"font-weight: bold\">         Param # </span>┃\n",
       "┡━━━━━━━━━━━━━━━━━━━━━━━━━━━━━━━━━━━━━━╇━━━━━━━━━━━━━━━━━━━━━━━━━━━━━╇━━━━━━━━━━━━━━━━━┩\n",
       "│ lstm (<span style=\"color: #0087ff; text-decoration-color: #0087ff\">LSTM</span>)                          │ (<span style=\"color: #00d7ff; text-decoration-color: #00d7ff\">None</span>, <span style=\"color: #00af00; text-decoration-color: #00af00\">100</span>, <span style=\"color: #00af00; text-decoration-color: #00af00\">50</span>)             │          <span style=\"color: #00af00; text-decoration-color: #00af00\">10,400</span> │\n",
       "├──────────────────────────────────────┼─────────────────────────────┼─────────────────┤\n",
       "│ dropout (<span style=\"color: #0087ff; text-decoration-color: #0087ff\">Dropout</span>)                    │ (<span style=\"color: #00d7ff; text-decoration-color: #00d7ff\">None</span>, <span style=\"color: #00af00; text-decoration-color: #00af00\">100</span>, <span style=\"color: #00af00; text-decoration-color: #00af00\">50</span>)             │               <span style=\"color: #00af00; text-decoration-color: #00af00\">0</span> │\n",
       "├──────────────────────────────────────┼─────────────────────────────┼─────────────────┤\n",
       "│ lstm_1 (<span style=\"color: #0087ff; text-decoration-color: #0087ff\">LSTM</span>)                        │ (<span style=\"color: #00d7ff; text-decoration-color: #00d7ff\">None</span>, <span style=\"color: #00af00; text-decoration-color: #00af00\">100</span>, <span style=\"color: #00af00; text-decoration-color: #00af00\">60</span>)             │          <span style=\"color: #00af00; text-decoration-color: #00af00\">26,640</span> │\n",
       "├──────────────────────────────────────┼─────────────────────────────┼─────────────────┤\n",
       "│ dropout_1 (<span style=\"color: #0087ff; text-decoration-color: #0087ff\">Dropout</span>)                  │ (<span style=\"color: #00d7ff; text-decoration-color: #00d7ff\">None</span>, <span style=\"color: #00af00; text-decoration-color: #00af00\">100</span>, <span style=\"color: #00af00; text-decoration-color: #00af00\">60</span>)             │               <span style=\"color: #00af00; text-decoration-color: #00af00\">0</span> │\n",
       "├──────────────────────────────────────┼─────────────────────────────┼─────────────────┤\n",
       "│ lstm_2 (<span style=\"color: #0087ff; text-decoration-color: #0087ff\">LSTM</span>)                        │ (<span style=\"color: #00d7ff; text-decoration-color: #00d7ff\">None</span>, <span style=\"color: #00af00; text-decoration-color: #00af00\">100</span>, <span style=\"color: #00af00; text-decoration-color: #00af00\">80</span>)             │          <span style=\"color: #00af00; text-decoration-color: #00af00\">45,120</span> │\n",
       "├──────────────────────────────────────┼─────────────────────────────┼─────────────────┤\n",
       "│ dropout_2 (<span style=\"color: #0087ff; text-decoration-color: #0087ff\">Dropout</span>)                  │ (<span style=\"color: #00d7ff; text-decoration-color: #00d7ff\">None</span>, <span style=\"color: #00af00; text-decoration-color: #00af00\">100</span>, <span style=\"color: #00af00; text-decoration-color: #00af00\">80</span>)             │               <span style=\"color: #00af00; text-decoration-color: #00af00\">0</span> │\n",
       "├──────────────────────────────────────┼─────────────────────────────┼─────────────────┤\n",
       "│ lstm_3 (<span style=\"color: #0087ff; text-decoration-color: #0087ff\">LSTM</span>)                        │ (<span style=\"color: #00d7ff; text-decoration-color: #00d7ff\">None</span>, <span style=\"color: #00af00; text-decoration-color: #00af00\">120</span>)                 │          <span style=\"color: #00af00; text-decoration-color: #00af00\">96,480</span> │\n",
       "├──────────────────────────────────────┼─────────────────────────────┼─────────────────┤\n",
       "│ dropout_3 (<span style=\"color: #0087ff; text-decoration-color: #0087ff\">Dropout</span>)                  │ (<span style=\"color: #00d7ff; text-decoration-color: #00d7ff\">None</span>, <span style=\"color: #00af00; text-decoration-color: #00af00\">120</span>)                 │               <span style=\"color: #00af00; text-decoration-color: #00af00\">0</span> │\n",
       "├──────────────────────────────────────┼─────────────────────────────┼─────────────────┤\n",
       "│ dense (<span style=\"color: #0087ff; text-decoration-color: #0087ff\">Dense</span>)                        │ (<span style=\"color: #00d7ff; text-decoration-color: #00d7ff\">None</span>, <span style=\"color: #00af00; text-decoration-color: #00af00\">1</span>)                   │             <span style=\"color: #00af00; text-decoration-color: #00af00\">121</span> │\n",
       "└──────────────────────────────────────┴─────────────────────────────┴─────────────────┘\n",
       "</pre>\n"
      ],
      "text/plain": [
       "┏━━━━━━━━━━━━━━━━━━━━━━━━━━━━━━━━━━━━━━┳━━━━━━━━━━━━━━━━━━━━━━━━━━━━━┳━━━━━━━━━━━━━━━━━┓\n",
       "┃\u001b[1m \u001b[0m\u001b[1mLayer (type)                        \u001b[0m\u001b[1m \u001b[0m┃\u001b[1m \u001b[0m\u001b[1mOutput Shape               \u001b[0m\u001b[1m \u001b[0m┃\u001b[1m \u001b[0m\u001b[1m        Param #\u001b[0m\u001b[1m \u001b[0m┃\n",
       "┡━━━━━━━━━━━━━━━━━━━━━━━━━━━━━━━━━━━━━━╇━━━━━━━━━━━━━━━━━━━━━━━━━━━━━╇━━━━━━━━━━━━━━━━━┩\n",
       "│ lstm (\u001b[38;5;33mLSTM\u001b[0m)                          │ (\u001b[38;5;45mNone\u001b[0m, \u001b[38;5;34m100\u001b[0m, \u001b[38;5;34m50\u001b[0m)             │          \u001b[38;5;34m10,400\u001b[0m │\n",
       "├──────────────────────────────────────┼─────────────────────────────┼─────────────────┤\n",
       "│ dropout (\u001b[38;5;33mDropout\u001b[0m)                    │ (\u001b[38;5;45mNone\u001b[0m, \u001b[38;5;34m100\u001b[0m, \u001b[38;5;34m50\u001b[0m)             │               \u001b[38;5;34m0\u001b[0m │\n",
       "├──────────────────────────────────────┼─────────────────────────────┼─────────────────┤\n",
       "│ lstm_1 (\u001b[38;5;33mLSTM\u001b[0m)                        │ (\u001b[38;5;45mNone\u001b[0m, \u001b[38;5;34m100\u001b[0m, \u001b[38;5;34m60\u001b[0m)             │          \u001b[38;5;34m26,640\u001b[0m │\n",
       "├──────────────────────────────────────┼─────────────────────────────┼─────────────────┤\n",
       "│ dropout_1 (\u001b[38;5;33mDropout\u001b[0m)                  │ (\u001b[38;5;45mNone\u001b[0m, \u001b[38;5;34m100\u001b[0m, \u001b[38;5;34m60\u001b[0m)             │               \u001b[38;5;34m0\u001b[0m │\n",
       "├──────────────────────────────────────┼─────────────────────────────┼─────────────────┤\n",
       "│ lstm_2 (\u001b[38;5;33mLSTM\u001b[0m)                        │ (\u001b[38;5;45mNone\u001b[0m, \u001b[38;5;34m100\u001b[0m, \u001b[38;5;34m80\u001b[0m)             │          \u001b[38;5;34m45,120\u001b[0m │\n",
       "├──────────────────────────────────────┼─────────────────────────────┼─────────────────┤\n",
       "│ dropout_2 (\u001b[38;5;33mDropout\u001b[0m)                  │ (\u001b[38;5;45mNone\u001b[0m, \u001b[38;5;34m100\u001b[0m, \u001b[38;5;34m80\u001b[0m)             │               \u001b[38;5;34m0\u001b[0m │\n",
       "├──────────────────────────────────────┼─────────────────────────────┼─────────────────┤\n",
       "│ lstm_3 (\u001b[38;5;33mLSTM\u001b[0m)                        │ (\u001b[38;5;45mNone\u001b[0m, \u001b[38;5;34m120\u001b[0m)                 │          \u001b[38;5;34m96,480\u001b[0m │\n",
       "├──────────────────────────────────────┼─────────────────────────────┼─────────────────┤\n",
       "│ dropout_3 (\u001b[38;5;33mDropout\u001b[0m)                  │ (\u001b[38;5;45mNone\u001b[0m, \u001b[38;5;34m120\u001b[0m)                 │               \u001b[38;5;34m0\u001b[0m │\n",
       "├──────────────────────────────────────┼─────────────────────────────┼─────────────────┤\n",
       "│ dense (\u001b[38;5;33mDense\u001b[0m)                        │ (\u001b[38;5;45mNone\u001b[0m, \u001b[38;5;34m1\u001b[0m)                   │             \u001b[38;5;34m121\u001b[0m │\n",
       "└──────────────────────────────────────┴─────────────────────────────┴─────────────────┘\n"
      ]
     },
     "metadata": {},
     "output_type": "display_data"
    },
    {
     "data": {
      "text/html": [
       "<pre style=\"white-space:pre;overflow-x:auto;line-height:normal;font-family:Menlo,'DejaVu Sans Mono',consolas,'Courier New',monospace\"><span style=\"font-weight: bold\"> Total params: </span><span style=\"color: #00af00; text-decoration-color: #00af00\">178,761</span> (698.29 KB)\n",
       "</pre>\n"
      ],
      "text/plain": [
       "\u001b[1m Total params: \u001b[0m\u001b[38;5;34m178,761\u001b[0m (698.29 KB)\n"
      ]
     },
     "metadata": {},
     "output_type": "display_data"
    },
    {
     "data": {
      "text/html": [
       "<pre style=\"white-space:pre;overflow-x:auto;line-height:normal;font-family:Menlo,'DejaVu Sans Mono',consolas,'Courier New',monospace\"><span style=\"font-weight: bold\"> Trainable params: </span><span style=\"color: #00af00; text-decoration-color: #00af00\">178,761</span> (698.29 KB)\n",
       "</pre>\n"
      ],
      "text/plain": [
       "\u001b[1m Trainable params: \u001b[0m\u001b[38;5;34m178,761\u001b[0m (698.29 KB)\n"
      ]
     },
     "metadata": {},
     "output_type": "display_data"
    },
    {
     "data": {
      "text/html": [
       "<pre style=\"white-space:pre;overflow-x:auto;line-height:normal;font-family:Menlo,'DejaVu Sans Mono',consolas,'Courier New',monospace\"><span style=\"font-weight: bold\"> Non-trainable params: </span><span style=\"color: #00af00; text-decoration-color: #00af00\">0</span> (0.00 B)\n",
       "</pre>\n"
      ],
      "text/plain": [
       "\u001b[1m Non-trainable params: \u001b[0m\u001b[38;5;34m0\u001b[0m (0.00 B)\n"
      ]
     },
     "metadata": {},
     "output_type": "display_data"
    }
   ],
   "source": [
    "model.summary()"
   ]
  },
  {
   "cell_type": "code",
   "execution_count": 22,
   "id": "e8ffb0fd-3448-4882-912b-71be81967ddc",
   "metadata": {},
   "outputs": [
    {
     "name": "stdout",
     "output_type": "stream",
     "text": [
      "Epoch 1/30\n",
      "\u001b[1m4/4\u001b[0m \u001b[32m━━━━━━━━━━━━━━━━━━━━\u001b[0m\u001b[37m\u001b[0m \u001b[1m13s\u001b[0m 244ms/step - loss: 0.4549\n",
      "Epoch 2/30\n",
      "\u001b[1m4/4\u001b[0m \u001b[32m━━━━━━━━━━━━━━━━━━━━\u001b[0m\u001b[37m\u001b[0m \u001b[1m1s\u001b[0m 239ms/step - loss: 0.2362\n",
      "Epoch 3/30\n",
      "\u001b[1m4/4\u001b[0m \u001b[32m━━━━━━━━━━━━━━━━━━━━\u001b[0m\u001b[37m\u001b[0m \u001b[1m1s\u001b[0m 231ms/step - loss: 0.1011\n",
      "Epoch 4/30\n",
      "\u001b[1m4/4\u001b[0m \u001b[32m━━━━━━━━━━━━━━━━━━━━\u001b[0m\u001b[37m\u001b[0m \u001b[1m1s\u001b[0m 223ms/step - loss: 0.0620\n",
      "Epoch 5/30\n",
      "\u001b[1m4/4\u001b[0m \u001b[32m━━━━━━━━━━━━━━━━━━━━\u001b[0m\u001b[37m\u001b[0m \u001b[1m1s\u001b[0m 223ms/step - loss: 0.1034\n",
      "Epoch 6/30\n",
      "\u001b[1m4/4\u001b[0m \u001b[32m━━━━━━━━━━━━━━━━━━━━\u001b[0m\u001b[37m\u001b[0m \u001b[1m1s\u001b[0m 231ms/step - loss: 0.0710\n",
      "Epoch 7/30\n",
      "\u001b[1m4/4\u001b[0m \u001b[32m━━━━━━━━━━━━━━━━━━━━\u001b[0m\u001b[37m\u001b[0m \u001b[1m1s\u001b[0m 221ms/step - loss: 0.0376\n",
      "Epoch 8/30\n",
      "\u001b[1m4/4\u001b[0m \u001b[32m━━━━━━━━━━━━━━━━━━━━\u001b[0m\u001b[37m\u001b[0m \u001b[1m1s\u001b[0m 221ms/step - loss: 0.0541\n",
      "Epoch 9/30\n",
      "\u001b[1m4/4\u001b[0m \u001b[32m━━━━━━━━━━━━━━━━━━━━\u001b[0m\u001b[37m\u001b[0m \u001b[1m1s\u001b[0m 224ms/step - loss: 0.0379\n",
      "Epoch 10/30\n",
      "\u001b[1m4/4\u001b[0m \u001b[32m━━━━━━━━━━━━━━━━━━━━\u001b[0m\u001b[37m\u001b[0m \u001b[1m1s\u001b[0m 228ms/step - loss: 0.0400\n",
      "Epoch 11/30\n",
      "\u001b[1m4/4\u001b[0m \u001b[32m━━━━━━━━━━━━━━━━━━━━\u001b[0m\u001b[37m\u001b[0m \u001b[1m1s\u001b[0m 225ms/step - loss: 0.0321\n",
      "Epoch 12/30\n",
      "\u001b[1m4/4\u001b[0m \u001b[32m━━━━━━━━━━━━━━━━━━━━\u001b[0m\u001b[37m\u001b[0m \u001b[1m1s\u001b[0m 216ms/step - loss: 0.0306\n",
      "Epoch 13/30\n",
      "\u001b[1m4/4\u001b[0m \u001b[32m━━━━━━━━━━━━━━━━━━━━\u001b[0m\u001b[37m\u001b[0m \u001b[1m1s\u001b[0m 212ms/step - loss: 0.0302\n",
      "Epoch 14/30\n",
      "\u001b[1m4/4\u001b[0m \u001b[32m━━━━━━━━━━━━━━━━━━━━\u001b[0m\u001b[37m\u001b[0m \u001b[1m1s\u001b[0m 216ms/step - loss: 0.0213\n",
      "Epoch 15/30\n",
      "\u001b[1m4/4\u001b[0m \u001b[32m━━━━━━━━━━━━━━━━━━━━\u001b[0m\u001b[37m\u001b[0m \u001b[1m1s\u001b[0m 214ms/step - loss: 0.0216\n",
      "Epoch 16/30\n",
      "\u001b[1m4/4\u001b[0m \u001b[32m━━━━━━━━━━━━━━━━━━━━\u001b[0m\u001b[37m\u001b[0m \u001b[1m1s\u001b[0m 218ms/step - loss: 0.0266\n",
      "Epoch 17/30\n",
      "\u001b[1m4/4\u001b[0m \u001b[32m━━━━━━━━━━━━━━━━━━━━\u001b[0m\u001b[37m\u001b[0m \u001b[1m1s\u001b[0m 212ms/step - loss: 0.0239\n",
      "Epoch 18/30\n",
      "\u001b[1m4/4\u001b[0m \u001b[32m━━━━━━━━━━━━━━━━━━━━\u001b[0m\u001b[37m\u001b[0m \u001b[1m1s\u001b[0m 212ms/step - loss: 0.0247\n",
      "Epoch 19/30\n",
      "\u001b[1m4/4\u001b[0m \u001b[32m━━━━━━━━━━━━━━━━━━━━\u001b[0m\u001b[37m\u001b[0m \u001b[1m1s\u001b[0m 215ms/step - loss: 0.0273\n",
      "Epoch 20/30\n",
      "\u001b[1m4/4\u001b[0m \u001b[32m━━━━━━━━━━━━━━━━━━━━\u001b[0m\u001b[37m\u001b[0m \u001b[1m1s\u001b[0m 206ms/step - loss: 0.0275\n",
      "Epoch 21/30\n",
      "\u001b[1m4/4\u001b[0m \u001b[32m━━━━━━━━━━━━━━━━━━━━\u001b[0m\u001b[37m\u001b[0m \u001b[1m1s\u001b[0m 213ms/step - loss: 0.0239\n",
      "Epoch 22/30\n",
      "\u001b[1m4/4\u001b[0m \u001b[32m━━━━━━━━━━━━━━━━━━━━\u001b[0m\u001b[37m\u001b[0m \u001b[1m1s\u001b[0m 209ms/step - loss: 0.0276\n",
      "Epoch 23/30\n",
      "\u001b[1m4/4\u001b[0m \u001b[32m━━━━━━━━━━━━━━━━━━━━\u001b[0m\u001b[37m\u001b[0m \u001b[1m1s\u001b[0m 217ms/step - loss: 0.0283\n",
      "Epoch 24/30\n",
      "\u001b[1m4/4\u001b[0m \u001b[32m━━━━━━━━━━━━━━━━━━━━\u001b[0m\u001b[37m\u001b[0m \u001b[1m1s\u001b[0m 212ms/step - loss: 0.0253\n",
      "Epoch 25/30\n",
      "\u001b[1m4/4\u001b[0m \u001b[32m━━━━━━━━━━━━━━━━━━━━\u001b[0m\u001b[37m\u001b[0m \u001b[1m1s\u001b[0m 209ms/step - loss: 0.0202\n",
      "Epoch 26/30\n",
      "\u001b[1m4/4\u001b[0m \u001b[32m━━━━━━━━━━━━━━━━━━━━\u001b[0m\u001b[37m\u001b[0m \u001b[1m1s\u001b[0m 207ms/step - loss: 0.0275\n",
      "Epoch 27/30\n",
      "\u001b[1m4/4\u001b[0m \u001b[32m━━━━━━━━━━━━━━━━━━━━\u001b[0m\u001b[37m\u001b[0m \u001b[1m1s\u001b[0m 212ms/step - loss: 0.0197\n",
      "Epoch 28/30\n",
      "\u001b[1m4/4\u001b[0m \u001b[32m━━━━━━━━━━━━━━━━━━━━\u001b[0m\u001b[37m\u001b[0m \u001b[1m1s\u001b[0m 212ms/step - loss: 0.0301\n",
      "Epoch 29/30\n",
      "\u001b[1m4/4\u001b[0m \u001b[32m━━━━━━━━━━━━━━━━━━━━\u001b[0m\u001b[37m\u001b[0m \u001b[1m1s\u001b[0m 212ms/step - loss: 0.0270\n",
      "Epoch 30/30\n",
      "\u001b[1m4/4\u001b[0m \u001b[32m━━━━━━━━━━━━━━━━━━━━\u001b[0m\u001b[37m\u001b[0m \u001b[1m1s\u001b[0m 212ms/step - loss: 0.0280\n"
     ]
    },
    {
     "data": {
      "text/plain": [
       "<keras.src.callbacks.history.History at 0x14b0f1dd5d0>"
      ]
     },
     "execution_count": 22,
     "metadata": {},
     "output_type": "execute_result"
    }
   ],
   "source": [
    "model.compile(optimizer='adam', loss = 'mean_squared_error')\n",
    "model.fit(x_train, y_train, epochs = 30)\n"
   ]
  },
  {
   "cell_type": "code",
   "execution_count": 23,
   "id": "6a86a7a1-8f63-44f1-8c90-babe6a15da1f",
   "metadata": {},
   "outputs": [
    {
     "name": "stderr",
     "output_type": "stream",
     "text": [
      "WARNING:absl:You are saving your model as an HDF5 file via `model.save()` or `keras.saving.save_model(model)`. This file format is considered legacy. We recommend using instead the native Keras format, e.g. `model.save('my_model.keras')` or `keras.saving.save_model(model, 'my_model.keras')`. \n"
     ]
    }
   ],
   "source": [
    "#For saving Model\n",
    "model.save('keras_model.h5')"
   ]
  },
  {
   "cell_type": "code",
   "execution_count": 24,
   "id": "96ed8364-5d1c-4382-ad15-1cb60aca928d",
   "metadata": {},
   "outputs": [
    {
     "data": {
      "text/html": [
       "<div>\n",
       "<style scoped>\n",
       "    .dataframe tbody tr th:only-of-type {\n",
       "        vertical-align: middle;\n",
       "    }\n",
       "\n",
       "    .dataframe tbody tr th {\n",
       "        vertical-align: top;\n",
       "    }\n",
       "\n",
       "    .dataframe thead th {\n",
       "        text-align: right;\n",
       "    }\n",
       "</style>\n",
       "<table border=\"1\" class=\"dataframe\">\n",
       "  <thead>\n",
       "    <tr style=\"text-align: right;\">\n",
       "      <th></th>\n",
       "      <th>Close</th>\n",
       "    </tr>\n",
       "  </thead>\n",
       "  <tbody>\n",
       "    <tr>\n",
       "      <th>228</th>\n",
       "      <td>1003.250000</td>\n",
       "    </tr>\n",
       "    <tr>\n",
       "      <th>229</th>\n",
       "      <td>999.000000</td>\n",
       "    </tr>\n",
       "    <tr>\n",
       "      <th>230</th>\n",
       "      <td>1010.849976</td>\n",
       "    </tr>\n",
       "    <tr>\n",
       "      <th>231</th>\n",
       "      <td>1017.099976</td>\n",
       "    </tr>\n",
       "    <tr>\n",
       "      <th>232</th>\n",
       "      <td>1015.700012</td>\n",
       "    </tr>\n",
       "  </tbody>\n",
       "</table>\n",
       "</div>"
      ],
      "text/plain": [
       "           Close\n",
       "228  1003.250000\n",
       "229   999.000000\n",
       "230  1010.849976\n",
       "231  1017.099976\n",
       "232  1015.700012"
      ]
     },
     "execution_count": 24,
     "metadata": {},
     "output_type": "execute_result"
    }
   ],
   "source": [
    "data_testing.head()"
   ]
  },
  {
   "cell_type": "code",
   "execution_count": 25,
   "id": "ad47d350-f3c9-4d5d-a75c-d562ed72ec8f",
   "metadata": {},
   "outputs": [
    {
     "data": {
      "text/html": [
       "<div>\n",
       "<style scoped>\n",
       "    .dataframe tbody tr th:only-of-type {\n",
       "        vertical-align: middle;\n",
       "    }\n",
       "\n",
       "    .dataframe tbody tr th {\n",
       "        vertical-align: top;\n",
       "    }\n",
       "\n",
       "    .dataframe thead th {\n",
       "        text-align: right;\n",
       "    }\n",
       "</style>\n",
       "<table border=\"1\" class=\"dataframe\">\n",
       "  <thead>\n",
       "    <tr style=\"text-align: right;\">\n",
       "      <th></th>\n",
       "      <th>Close</th>\n",
       "    </tr>\n",
       "  </thead>\n",
       "  <tbody>\n",
       "    <tr>\n",
       "      <th>128</th>\n",
       "      <td>944.950012</td>\n",
       "    </tr>\n",
       "    <tr>\n",
       "      <th>129</th>\n",
       "      <td>944.400024</td>\n",
       "    </tr>\n",
       "    <tr>\n",
       "      <th>130</th>\n",
       "      <td>955.700012</td>\n",
       "    </tr>\n",
       "    <tr>\n",
       "      <th>131</th>\n",
       "      <td>960.049988</td>\n",
       "    </tr>\n",
       "    <tr>\n",
       "      <th>132</th>\n",
       "      <td>968.700012</td>\n",
       "    </tr>\n",
       "    <tr>\n",
       "      <th>...</th>\n",
       "      <td>...</td>\n",
       "    </tr>\n",
       "    <tr>\n",
       "      <th>223</th>\n",
       "      <td>939.599976</td>\n",
       "    </tr>\n",
       "    <tr>\n",
       "      <th>224</th>\n",
       "      <td>934.950012</td>\n",
       "    </tr>\n",
       "    <tr>\n",
       "      <th>225</th>\n",
       "      <td>946.700012</td>\n",
       "    </tr>\n",
       "    <tr>\n",
       "      <th>226</th>\n",
       "      <td>991.200012</td>\n",
       "    </tr>\n",
       "    <tr>\n",
       "      <th>227</th>\n",
       "      <td>1013.450012</td>\n",
       "    </tr>\n",
       "  </tbody>\n",
       "</table>\n",
       "<p>100 rows × 1 columns</p>\n",
       "</div>"
      ],
      "text/plain": [
       "           Close\n",
       "128   944.950012\n",
       "129   944.400024\n",
       "130   955.700012\n",
       "131   960.049988\n",
       "132   968.700012\n",
       "..           ...\n",
       "223   939.599976\n",
       "224   934.950012\n",
       "225   946.700012\n",
       "226   991.200012\n",
       "227  1013.450012\n",
       "\n",
       "[100 rows x 1 columns]"
      ]
     },
     "execution_count": 25,
     "metadata": {},
     "output_type": "execute_result"
    }
   ],
   "source": [
    "data_training.tail(100)"
   ]
  },
  {
   "cell_type": "code",
   "execution_count": 26,
   "id": "2b47b98f-01e1-4d6d-8a2b-f70ccbab80d8",
   "metadata": {},
   "outputs": [],
   "source": [
    "past_100_days = data_training.tail(100)"
   ]
  },
  {
   "cell_type": "code",
   "execution_count": 27,
   "id": "8b410ea4-afdf-4942-95d4-a3b18450e819",
   "metadata": {},
   "outputs": [],
   "source": [
    "final_df = pd.concat([past_100_days, data_testing], ignore_index=True)\n"
   ]
  },
  {
   "cell_type": "code",
   "execution_count": 28,
   "id": "aa265e4d-1cf7-4cd8-bc6d-bc6553adab79",
   "metadata": {},
   "outputs": [
    {
     "data": {
      "text/html": [
       "<div>\n",
       "<style scoped>\n",
       "    .dataframe tbody tr th:only-of-type {\n",
       "        vertical-align: middle;\n",
       "    }\n",
       "\n",
       "    .dataframe tbody tr th {\n",
       "        vertical-align: top;\n",
       "    }\n",
       "\n",
       "    .dataframe thead th {\n",
       "        text-align: right;\n",
       "    }\n",
       "</style>\n",
       "<table border=\"1\" class=\"dataframe\">\n",
       "  <thead>\n",
       "    <tr style=\"text-align: right;\">\n",
       "      <th></th>\n",
       "      <th>Close</th>\n",
       "    </tr>\n",
       "  </thead>\n",
       "  <tbody>\n",
       "    <tr>\n",
       "      <th>0</th>\n",
       "      <td>944.950012</td>\n",
       "    </tr>\n",
       "    <tr>\n",
       "      <th>1</th>\n",
       "      <td>944.400024</td>\n",
       "    </tr>\n",
       "    <tr>\n",
       "      <th>2</th>\n",
       "      <td>955.700012</td>\n",
       "    </tr>\n",
       "    <tr>\n",
       "      <th>3</th>\n",
       "      <td>960.049988</td>\n",
       "    </tr>\n",
       "    <tr>\n",
       "      <th>4</th>\n",
       "      <td>968.700012</td>\n",
       "    </tr>\n",
       "  </tbody>\n",
       "</table>\n",
       "</div>"
      ],
      "text/plain": [
       "        Close\n",
       "0  944.950012\n",
       "1  944.400024\n",
       "2  955.700012\n",
       "3  960.049988\n",
       "4  968.700012"
      ]
     },
     "execution_count": 28,
     "metadata": {},
     "output_type": "execute_result"
    }
   ],
   "source": [
    "final_df.head()"
   ]
  },
  {
   "cell_type": "code",
   "execution_count": 29,
   "id": "47bbb42a-2e72-43ba-ad3c-ed8da7084047",
   "metadata": {},
   "outputs": [
    {
     "data": {
      "text/plain": [
       "array([[0.14433395],\n",
       "       [0.14214712],\n",
       "       [0.18707749],\n",
       "       [0.20437361],\n",
       "       [0.23876735],\n",
       "       [0.26560631],\n",
       "       [0.25765403],\n",
       "       [0.34572545],\n",
       "       [0.35129215],\n",
       "       [0.33141143],\n",
       "       [0.34214707],\n",
       "       [0.34910532],\n",
       "       [0.32445318],\n",
       "       [0.34811128],\n",
       "       [0.35646109],\n",
       "       [0.34155055],\n",
       "       [0.31133196],\n",
       "       [0.22405557],\n",
       "       [0.24592436],\n",
       "       [0.26640159],\n",
       "       [0.2833002 ],\n",
       "       [0.25467192],\n",
       "       [0.22047694],\n",
       "       [0.17574533],\n",
       "       [0.20238554],\n",
       "       [0.19025835],\n",
       "       [0.17097416],\n",
       "       [0.16699801],\n",
       "       [0.18508941],\n",
       "       [0.17236571],\n",
       "       [0.23141134],\n",
       "       [0.23976138],\n",
       "       [0.24552684],\n",
       "       [0.24612311],\n",
       "       [0.23498996],\n",
       "       [0.19980119],\n",
       "       [0.19920467],\n",
       "       [0.23876735],\n",
       "       [0.23339941],\n",
       "       [0.23757455],\n",
       "       [0.1942345 ],\n",
       "       [0.22664016],\n",
       "       [0.24612311],\n",
       "       [0.27673947],\n",
       "       [0.32544722],\n",
       "       [0.32266387],\n",
       "       [0.31431407],\n",
       "       [0.33320075],\n",
       "       [0.32425442],\n",
       "       [0.31212724],\n",
       "       [0.2013915 ],\n",
       "       [0.16560622],\n",
       "       [0.18966183],\n",
       "       [0.15924448],\n",
       "       [0.13697794],\n",
       "       [0.13498987],\n",
       "       [0.17196819],\n",
       "       [0.12584478],\n",
       "       [0.08508932],\n",
       "       [0.12803161],\n",
       "       [0.14532798],\n",
       "       [0.11908529],\n",
       "       [0.16918484],\n",
       "       [0.17673937],\n",
       "       [0.18131203],\n",
       "       [0.16958236],\n",
       "       [0.16998012],\n",
       "       [0.17992048],\n",
       "       [0.13956253],\n",
       "       [0.10775338],\n",
       "       [0.09582495],\n",
       "       [0.0846918 ],\n",
       "       [0.02962207],\n",
       "       [0.        ],\n",
       "       [0.01630209],\n",
       "       [0.06461233],\n",
       "       [0.02663996],\n",
       "       [0.02147103],\n",
       "       [0.04493037],\n",
       "       [0.09999985],\n",
       "       [0.14632202],\n",
       "       [0.15685865],\n",
       "       [0.10775338],\n",
       "       [0.11411511],\n",
       "       [0.11908529],\n",
       "       [0.10258444],\n",
       "       [0.12902565],\n",
       "       [0.10874742],\n",
       "       [0.0524849 ],\n",
       "       [0.05089458],\n",
       "       [0.0693835 ],\n",
       "       [0.05606352],\n",
       "       [0.05705756],\n",
       "       [0.08250497],\n",
       "       [0.06699791],\n",
       "       [0.12306144],\n",
       "       [0.10457252],\n",
       "       [0.1512922 ],\n",
       "       [0.32823057],\n",
       "       [0.41669975],\n",
       "       [0.37614304],\n",
       "       [0.35924444],\n",
       "       [0.40636163],\n",
       "       [0.43121253],\n",
       "       [0.42564607],\n",
       "       [0.41848907],\n",
       "       [0.49701789],\n",
       "       [0.51192843],\n",
       "       [0.4485089 ],\n",
       "       [0.42465204],\n",
       "       [0.38966203],\n",
       "       [0.38071571],\n",
       "       [0.34055651],\n",
       "       [0.34373738],\n",
       "       [0.3721669 ],\n",
       "       [0.38667992],\n",
       "       [0.3497016 ],\n",
       "       [0.36083499],\n",
       "       [0.29264404],\n",
       "       [0.29980105],\n",
       "       [0.31212724],\n",
       "       [0.33817093],\n",
       "       [0.29165   ],\n",
       "       [0.28270368],\n",
       "       [0.33558634],\n",
       "       [0.32803181],\n",
       "       [0.37713708],\n",
       "       [0.40238549],\n",
       "       [0.39920463],\n",
       "       [0.29065597],\n",
       "       [0.30894613],\n",
       "       [0.36003971],\n",
       "       [0.47872773],\n",
       "       [0.36003971],\n",
       "       [0.40278325],\n",
       "       [0.42842942],\n",
       "       [0.4304175 ],\n",
       "       [0.47514911],\n",
       "       [0.46322068],\n",
       "       [0.45864801],\n",
       "       [0.45665994],\n",
       "       [0.46819085],\n",
       "       [0.45129225],\n",
       "       [0.3206758 ],\n",
       "       [0.40576536],\n",
       "       [0.34771352],\n",
       "       [0.44194816],\n",
       "       [0.45347908],\n",
       "       [0.42942346],\n",
       "       [0.45566591],\n",
       "       [0.53717684],\n",
       "       [0.55705756],\n",
       "       [0.56978102],\n",
       "       [0.61252456],\n",
       "       [0.60695835],\n",
       "       [0.57872734],\n",
       "       [0.6025842 ],\n",
       "       [0.5469182 ],\n",
       "       [0.57077506],\n",
       "       [0.70874751],\n",
       "       [0.7304173 ],\n",
       "       [0.71332018],\n",
       "       [0.74930398],\n",
       "       [0.71292217],\n",
       "       [0.67614285],\n",
       "       [0.66878708],\n",
       "       [0.6970176 ],\n",
       "       [0.69562605],\n",
       "       [0.68270358],\n",
       "       [0.68608321],\n",
       "       [0.6970176 ],\n",
       "       [0.69920467],\n",
       "       [0.68846928],\n",
       "       [0.7222665 ],\n",
       "       [0.69602357],\n",
       "       [0.69622257],\n",
       "       [0.73419493],\n",
       "       [0.75944334],\n",
       "       [0.68608321],\n",
       "       [0.67017864],\n",
       "       [0.67673937],\n",
       "       [0.69483101],\n",
       "       [0.70974155],\n",
       "       [0.7888669 ],\n",
       "       [0.79821074],\n",
       "       [0.77833002],\n",
       "       [0.6747513 ],\n",
       "       [0.62982117],\n",
       "       [0.58369752],\n",
       "       [0.63061621],\n",
       "       [0.70775348],\n",
       "       [0.7220675 ],\n",
       "       [0.74791243],\n",
       "       [0.81550686],\n",
       "       [0.79224652],\n",
       "       [1.        ],\n",
       "       [0.9612326 ],\n",
       "       [0.91769355]])"
      ]
     },
     "execution_count": 29,
     "metadata": {},
     "output_type": "execute_result"
    }
   ],
   "source": [
    "input_data = scaler.fit_transform(final_df)\n",
    "input_data\n"
   ]
  },
  {
   "cell_type": "code",
   "execution_count": 30,
   "id": "d86c3ce5-2e2d-46c4-8512-85f9e3c614b8",
   "metadata": {},
   "outputs": [
    {
     "data": {
      "text/plain": [
       "(198, 1)"
      ]
     },
     "execution_count": 30,
     "metadata": {},
     "output_type": "execute_result"
    }
   ],
   "source": [
    "input_data.shape"
   ]
  },
  {
   "cell_type": "code",
   "execution_count": 31,
   "id": "7ec53e55-fb94-421b-a8f2-eef14f2f8680",
   "metadata": {},
   "outputs": [],
   "source": [
    "x_test = []\n",
    "y_test = []\n",
    "\n",
    "for i in range(100, input_data.shape[0]):\n",
    "    x_test.append(input_data[i-100: i])\n",
    "    y_test.append(input_data[i, 0])\n"
   ]
  },
  {
   "cell_type": "code",
   "execution_count": 32,
   "id": "2dc73e94-ff74-4296-9094-533de4a9125e",
   "metadata": {},
   "outputs": [
    {
     "name": "stdout",
     "output_type": "stream",
     "text": [
      "(98, 100, 1)\n",
      "(98,)\n"
     ]
    }
   ],
   "source": [
    "x_test, y_test = np.array(x_test), np.array(y_test)\n",
    "print(x_test.shape)\n",
    "print(y_test.shape)\n"
   ]
  },
  {
   "cell_type": "code",
   "execution_count": 33,
   "id": "463b142b-5c05-4829-8572-212cbc73af97",
   "metadata": {},
   "outputs": [
    {
     "name": "stdout",
     "output_type": "stream",
     "text": [
      "\u001b[1m4/4\u001b[0m \u001b[32m━━━━━━━━━━━━━━━━━━━━\u001b[0m\u001b[37m\u001b[0m \u001b[1m3s\u001b[0m 496ms/step\n"
     ]
    }
   ],
   "source": [
    "# Making Predictions\n",
    "\n",
    "y_predicted = model.predict(x_test)\n"
   ]
  },
  {
   "cell_type": "code",
   "execution_count": 34,
   "id": "f634681d-96cf-4f22-a2b2-b5e3a815dd7f",
   "metadata": {},
   "outputs": [
    {
     "data": {
      "text/plain": [
       "(98, 1)"
      ]
     },
     "execution_count": 34,
     "metadata": {},
     "output_type": "execute_result"
    }
   ],
   "source": [
    "y_predicted.shape"
   ]
  },
  {
   "cell_type": "code",
   "execution_count": 35,
   "id": "484f47e9-ce9a-4ad7-93b7-9e559b01a0b8",
   "metadata": {},
   "outputs": [
    {
     "data": {
      "text/plain": [
       "array([0.37614304, 0.35924444, 0.40636163, 0.43121253, 0.42564607,\n",
       "       0.41848907, 0.49701789, 0.51192843, 0.4485089 , 0.42465204,\n",
       "       0.38966203, 0.38071571, 0.34055651, 0.34373738, 0.3721669 ,\n",
       "       0.38667992, 0.3497016 , 0.36083499, 0.29264404, 0.29980105,\n",
       "       0.31212724, 0.33817093, 0.29165   , 0.28270368, 0.33558634,\n",
       "       0.32803181, 0.37713708, 0.40238549, 0.39920463, 0.29065597,\n",
       "       0.30894613, 0.36003971, 0.47872773, 0.36003971, 0.40278325,\n",
       "       0.42842942, 0.4304175 , 0.47514911, 0.46322068, 0.45864801,\n",
       "       0.45665994, 0.46819085, 0.45129225, 0.3206758 , 0.40576536,\n",
       "       0.34771352, 0.44194816, 0.45347908, 0.42942346, 0.45566591,\n",
       "       0.53717684, 0.55705756, 0.56978102, 0.61252456, 0.60695835,\n",
       "       0.57872734, 0.6025842 , 0.5469182 , 0.57077506, 0.70874751,\n",
       "       0.7304173 , 0.71332018, 0.74930398, 0.71292217, 0.67614285,\n",
       "       0.66878708, 0.6970176 , 0.69562605, 0.68270358, 0.68608321,\n",
       "       0.6970176 , 0.69920467, 0.68846928, 0.7222665 , 0.69602357,\n",
       "       0.69622257, 0.73419493, 0.75944334, 0.68608321, 0.67017864,\n",
       "       0.67673937, 0.69483101, 0.70974155, 0.7888669 , 0.79821074,\n",
       "       0.77833002, 0.6747513 , 0.62982117, 0.58369752, 0.63061621,\n",
       "       0.70775348, 0.7220675 , 0.74791243, 0.81550686, 0.79224652,\n",
       "       1.        , 0.9612326 , 0.91769355])"
      ]
     },
     "execution_count": 35,
     "metadata": {},
     "output_type": "execute_result"
    }
   ],
   "source": [
    "y_test"
   ]
  },
  {
   "cell_type": "code",
   "execution_count": 36,
   "id": "20e73099-8a6b-452d-a190-36dde7512702",
   "metadata": {},
   "outputs": [
    {
     "data": {
      "text/plain": [
       "array([[0.45832703],\n",
       "       [0.45918489],\n",
       "       [0.46068507],\n",
       "       [0.46286663],\n",
       "       [0.46574247],\n",
       "       [0.46928495],\n",
       "       [0.47342744],\n",
       "       [0.47812533],\n",
       "       [0.48333716],\n",
       "       [0.48896885],\n",
       "       [0.49489045],\n",
       "       [0.5009439 ],\n",
       "       [0.5069717 ],\n",
       "       [0.5128135 ],\n",
       "       [0.518336  ],\n",
       "       [0.52345836],\n",
       "       [0.52814704],\n",
       "       [0.5323746 ],\n",
       "       [0.5361353 ],\n",
       "       [0.53939956],\n",
       "       [0.54214805],\n",
       "       [0.54438543],\n",
       "       [0.5461505 ],\n",
       "       [0.5474709 ],\n",
       "       [0.5483707 ],\n",
       "       [0.5489095 ],\n",
       "       [0.54915273],\n",
       "       [0.5491942 ],\n",
       "       [0.5491411 ],\n",
       "       [0.549086  ],\n",
       "       [0.5490343 ],\n",
       "       [0.5489689 ],\n",
       "       [0.54889774],\n",
       "       [0.5489077 ],\n",
       "       [0.54902357],\n",
       "       [0.5492672 ],\n",
       "       [0.5496662 ],\n",
       "       [0.5502408 ],\n",
       "       [0.5510262 ],\n",
       "       [0.55204195],\n",
       "       [0.55328697],\n",
       "       [0.55474365],\n",
       "       [0.55638975],\n",
       "       [0.55818725],\n",
       "       [0.56001323],\n",
       "       [0.561785  ],\n",
       "       [0.56341136],\n",
       "       [0.56487596],\n",
       "       [0.56620145],\n",
       "       [0.5674084 ],\n",
       "       [0.5685312 ],\n",
       "       [0.5696538 ],\n",
       "       [0.5708725 ],\n",
       "       [0.5722739 ],\n",
       "       [0.5739445 ],\n",
       "       [0.57594043],\n",
       "       [0.57826626],\n",
       "       [0.5809091 ],\n",
       "       [0.5838028 ],\n",
       "       [0.58687806],\n",
       "       [0.59015405],\n",
       "       [0.5936801 ],\n",
       "       [0.59748596],\n",
       "       [0.60159993],\n",
       "       [0.6060061 ],\n",
       "       [0.6106374 ],\n",
       "       [0.6154018 ],\n",
       "       [0.62022096],\n",
       "       [0.62502605],\n",
       "       [0.62974936],\n",
       "       [0.63433355],\n",
       "       [0.6387396 ],\n",
       "       [0.64294237],\n",
       "       [0.6469188 ],\n",
       "       [0.65067333],\n",
       "       [0.65420276],\n",
       "       [0.6575035 ],\n",
       "       [0.6605976 ],\n",
       "       [0.66353005],\n",
       "       [0.6662982 ],\n",
       "       [0.66887367],\n",
       "       [0.6712282 ],\n",
       "       [0.67335266],\n",
       "       [0.67525935],\n",
       "       [0.6770211 ],\n",
       "       [0.67872584],\n",
       "       [0.6804386 ],\n",
       "       [0.68213403],\n",
       "       [0.6837272 ],\n",
       "       [0.68509537],\n",
       "       [0.6861599 ],\n",
       "       [0.686929  ],\n",
       "       [0.6874571 ],\n",
       "       [0.68782926],\n",
       "       [0.68817395],\n",
       "       [0.68859595],\n",
       "       [0.6893092 ],\n",
       "       [0.69049114]], dtype=float32)"
      ]
     },
     "execution_count": 36,
     "metadata": {},
     "output_type": "execute_result"
    }
   ],
   "source": [
    "y_predicted"
   ]
  },
  {
   "cell_type": "code",
   "execution_count": 37,
   "id": "00f10996-52ef-4323-8ff2-6ed5510d36bb",
   "metadata": {},
   "outputs": [
    {
     "data": {
      "text/plain": [
       "array([0.00397614])"
      ]
     },
     "execution_count": 37,
     "metadata": {},
     "output_type": "execute_result"
    }
   ],
   "source": [
    "scaler.scale_"
   ]
  },
  {
   "cell_type": "code",
   "execution_count": 38,
   "id": "a300f78a-140f-4777-b416-393c83f69a58",
   "metadata": {},
   "outputs": [],
   "source": [
    "scale_factor = 1/0.02099517\n",
    "y_predicted = y_predicted * scale_factor\n",
    "y_test = y_test * scale_factor\n"
   ]
  },
  {
   "cell_type": "code",
   "execution_count": 39,
   "id": "9a9c7d43-d43c-435f-a83f-c5aadf3d3bf9",
   "metadata": {},
   "outputs": [
    {
     "data": {
      "image/png": "[encoded data removed]",
      "text/plain": [
       "<Figure size 1200x600 with 1 Axes>"
      ]
     },
     "metadata": {},
     "output_type": "display_data"
    }
   ],
   "source": [
    "plt.figure(figsize=(12,6))\n",
    "plt.plot(y_test, 'b', label = 'original price' )\n",
    "plt.plot(y_predicted, 'r',label = 'Predicted Price' )\n",
    "plt.xlabel('Time')\n",
    "plt.ylabel('Price')\n",
    "plt.legend()\n",
    "plt.show()\n"
   ]
  },
  {
   "cell_type": "code",
   "execution_count": null,
   "id": "5a03a06b-4e99-44d1-b9f6-ab154b11f59f",
   "metadata": {},
   "outputs": [],
   "source": []
  },
  {
   "cell_type": "code",
   "execution_count": null,
   "id": "f82f63d9-a9c3-4a59-a2fc-9599b5cfad05",
   "metadata": {},
   "outputs": [],
   "source": []
  }
 ],
 "metadata": {
  "kernelspec": {
   "display_name": "Python 3 (ipykernel)",
   "language": "python",
   "name": "python3"
  },
  "language_info": {
   "codemirror_mode": {
    "name": "ipython",
    "version": 3
   },
   "file_extension": ".py",
   "mimetype": "text/x-python",
   "name": "python",
   "nbconvert_exporter": "python",
   "pygments_lexer": "ipython3",
   "version": "3.11.1"
  }
 },
 "nbformat": 4,
 "nbformat_minor": 5
}
